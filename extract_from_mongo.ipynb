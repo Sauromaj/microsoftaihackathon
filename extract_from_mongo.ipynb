{
 "cells": [
  {
   "cell_type": "code",
   "execution_count": 25,
   "metadata": {},
   "outputs": [],
   "source": [
    "from pymongo import MongoClient\n",
    "import pandas as pd\n",
    "import json"
   ]
  },
  {
   "cell_type": "code",
   "execution_count": 26,
   "metadata": {},
   "outputs": [],
   "source": [
    "MONGO_URL = \"mongodb://localhost:27017\""
   ]
  },
  {
   "cell_type": "code",
   "execution_count": 29,
   "metadata": {},
   "outputs": [
    {
     "name": "stdout",
     "output_type": "stream",
     "text": [
      "{'lecture_video_url': {'vid1': 'https://uwflow.com/course/ece457a', 'vid2': 'https://uwflow.com/course/ece457b'}, 'lecture_text_url': {'vid1': 'https://uwaterloo.ca/scholar/pmehrann/classes/ece-457a-adaptive-and-cooperative-algorithms', 'vid2': 'https://www.youtube.com/watch?v=OM5rUg-sxQg'}}\n"
     ]
    }
   ],
   "source": [
    "client = MongoClient(MONGO_URL)\n",
    "db = client['instructai']\n",
    "collection = db['Lectures']\n",
    "ret_dict = collection.find_one({'course_code': 'CS480', 'sec_id': 1, 'course_term': 'Spring', 'course_year': 2023},{'_id': 0,'lecture_video_url': 1,'lecture_text_url': 1})\n",
    "print(ret_dict)"
   ]
  },
  {
   "cell_type": "code",
   "execution_count": 31,
   "metadata": {},
   "outputs": [
    {
     "name": "stdout",
     "output_type": "stream",
     "text": [
      "https://uwaterloo.ca/scholar/pmehrann/classes/ece-457a-adaptive-and-cooperative-algorithms\n"
     ]
    }
   ],
   "source": [
    "print(ret_dict['lecture_text_url']['vid1'])"
   ]
  },
  {
   "cell_type": "code",
   "execution_count": null,
   "metadata": {},
   "outputs": [],
   "source": [
    "with open(\"sample_entry.json\", \"w\") as fp:\n",
    "    json.dump(ret_dict, fp, indent= 4)"
   ]
  },
  {
   "cell_type": "code",
   "execution_count": null,
   "metadata": {},
   "outputs": [],
   "source": []
  }
 ],
 "metadata": {
  "kernelspec": {
   "display_name": ".venv",
   "language": "python",
   "name": "python3"
  },
  "language_info": {
   "codemirror_mode": {
    "name": "ipython",
    "version": 3
   },
   "file_extension": ".py",
   "mimetype": "text/x-python",
   "name": "python",
   "nbconvert_exporter": "python",
   "pygments_lexer": "ipython3",
   "version": "3.9.1"
  }
 },
 "nbformat": 4,
 "nbformat_minor": 2
}
